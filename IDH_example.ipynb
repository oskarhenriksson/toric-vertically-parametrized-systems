{
 "cells": [
  {
   "cell_type": "code",
   "execution_count": 1,
   "metadata": {},
   "outputs": [
    {
     "name": "stdout",
     "output_type": "stream",
     "text": [
      "\r"
     ]
    }
   ],
   "source": [
    "# Include all the functions \n",
    "include(\"src/main.jl\");"
   ]
  },
  {
   "cell_type": "code",
   "execution_count": 2,
   "metadata": {},
   "outputs": [
    {
     "name": "stdout",
     "output_type": "stream",
     "text": [
      "\u001b[0m\u001b[1mTest Summary:            | \u001b[22m\u001b[32m\u001b[1mPass  \u001b[22m\u001b[39m\u001b[36m\u001b[1mTotal  \u001b[22m\u001b[39m\u001b[0m\u001b[1mTime\u001b[22m\n",
      "Computing CRNT structure | \u001b[32m   6  \u001b[39m\u001b[36m    6  \u001b[39m\u001b[0m0.9s\n",
      "\u001b[0m\u001b[1mTest Summary:     | \u001b[22m\u001b[32m\u001b[1mPass  \u001b[22m\u001b[39m\u001b[36m\u001b[1mTotal  \u001b[22m\u001b[39m\u001b[0m\u001b[1mTime\u001b[22m\n",
      "Checking toricity | \u001b[32m   4  \u001b[39m\u001b[36m    4  \u001b[39m\u001b[0m0.6s\n",
      "\u001b[0m\u001b[1mTest Summary:                | \u001b[22m\u001b[32m\u001b[1mPass  \u001b[22m\u001b[39m\u001b[36m\u001b[1mTotal  \u001b[22m\u001b[39m\u001b[0m\u001b[1mTime\u001b[22m\n",
      "Graph theoretic computations | \u001b[32m   3  \u001b[39m\u001b[36m    3  \u001b[39m\u001b[0m0.0s\n",
      "\u001b[0m\u001b[1mTest Summary:                      | \u001b[22m\u001b[32m\u001b[1mPass  \u001b[22m\u001b[39m\u001b[36m\u001b[1mTotal  \u001b[22m\u001b[39m\u001b[0m\u001b[1mTime\u001b[22m\n",
      "Networks with intermediate species | \u001b[32m  11  \u001b[39m\u001b[36m   11  \u001b[39m\u001b[0m0.6s\n",
      "\u001b[0m\u001b[1mTest Summary:   | \u001b[22m\u001b[32m\u001b[1mPass  \u001b[22m\u001b[39m\u001b[36m\u001b[1mTotal  \u001b[22m\u001b[39m\u001b[0m\u001b[1m Time\u001b[22m\n",
      "Shinar-Feinberg | \u001b[32m  21  \u001b[39m\u001b[36m   21  \u001b[39m\u001b[0m32.8s\n"
     ]
    }
   ],
   "source": [
    "# Run all the test cases\n",
    "include(\"tests/runtests.jl\");"
   ]
  },
  {
   "cell_type": "code",
   "execution_count": 3,
   "metadata": {},
   "outputs": [
    {
     "data": {
      "text/html": [
       "[1 0 0 0 0 0; 1 0 0 0 0 0; 0 1 1 1 0 0; 0 0 0 1 0 0; 0 0 0 0 1 1]"
      ],
      "text/latex": [
       "\\begin{array}{cccccc}\n",
       "1 & 0 & 0 & 0 & 0 & 0 \\\\\n",
       "1 & 0 & 0 & 0 & 0 & 0 \\\\\n",
       "0 & 1 & 1 & 1 & 0 & 0 \\\\\n",
       "0 & 0 & 0 & 1 & 0 & 0 \\\\\n",
       "0 & 0 & 0 & 0 & 1 & 1\n",
       "\\end{array}"
      ],
      "text/plain": [
       "[1   0   0   0   0   0]\n",
       "[1   0   0   0   0   0]\n",
       "[0   1   1   1   0   0]\n",
       "[0   0   0   1   0   0]\n",
       "[0   0   0   0   1   1]"
      ]
     },
     "metadata": {},
     "output_type": "display_data"
    }
   ],
   "source": [
    "# Matrices for the running IDH example\n",
    "N = matrix(QQ, [[-1, 1, 1, 0, 0, 0],\n",
    "     [-1, 1, 0, 0, 0, 1],\n",
    "     [1, -1, -1, -1, 1, 1],\n",
    "     [0, 0, 1, -1, 1, 0],\n",
    "     [0, 0, 0, 1, -1, -1]])\n",
    "\n",
    "M = matrix(ZZ, [[1, 0, 0, 0, 0, 0],\n",
    "     [1, 0, 0, 0, 0, 0],\n",
    "     [0, 1, 1, 1, 0, 0],\n",
    "     [0, 0, 0, 1, 0, 0],\n",
    "     [0, 0, 0, 0, 1, 1]])"
   ]
  },
  {
   "cell_type": "code",
   "execution_count": 4,
   "metadata": {},
   "outputs": [
    {
     "name": "stdout",
     "output_type": "stream",
     "text": [
      "n=5, r=6, d=2\n"
     ]
    }
   ],
   "source": [
    "n = nrows(M)\n",
    "r = ncols(M)\n",
    "s = rank(N)\n",
    "d = n-s\n",
    "println(\"n=$n, r=$r, d=$d\")"
   ]
  },
  {
   "cell_type": "code",
   "execution_count": 5,
   "metadata": {},
   "outputs": [
    {
     "data": {
      "text/html": [
       "[-2 1 -1 1 0; 1 0 1 0 1]"
      ],
      "text/latex": [
       "\\begin{array}{ccccc}\n",
       "-2 & 1 & -1 & 1 & 0 \\\\\n",
       "1 & 0 & 1 & 0 & 1\n",
       "\\end{array}"
      ],
      "text/plain": [
       "[-2   1   -1   1   0]\n",
       "[ 1   0    1   0   1]"
      ]
     },
     "metadata": {},
     "output_type": "display_data"
    }
   ],
   "source": [
    "# Row reduced stoichiometric matrix\n",
    "C = row_space(N)\n",
    "\n",
    "# Conserved quantities\n",
    "W = kernel(N, side=:left)"
   ]
  },
  {
   "cell_type": "code",
   "execution_count": 6,
   "metadata": {},
   "outputs": [
    {
     "name": "stdout",
     "output_type": "stream",
     "text": [
      "m=6\n",
      "ell=2\n",
      "deficiency=1\n"
     ]
    }
   ],
   "source": [
    "# Graph structure and deficiency\n",
    "g, embedding = reaction_graph(N, M)\n",
    "\n",
    "# Number of complexes\n",
    "m = length(Graphs.vertices(g))\n",
    "println(\"m=$m\")\n",
    "\n",
    "# Linkage classes\n",
    "ell = length(Graphs.weakly_connected_components(g))\n",
    "println(\"ell=$ell\")\n",
    "\n",
    "# Deficiency\n",
    "deficiency  = delta(N, M)\n",
    "println(\"deficiency=$deficiency\")"
   ]
  },
  {
   "cell_type": "code",
   "execution_count": 7,
   "metadata": {},
   "outputs": [
    {
     "data": {
      "text/plain": [
       "false"
      ]
     },
     "metadata": {},
     "output_type": "display_data"
    }
   ],
   "source": [
    "covered_by_deficiency_zero_theorem(N, M)"
   ]
  },
  {
   "cell_type": "code",
   "execution_count": 8,
   "metadata": {},
   "outputs": [
    {
     "data": {
      "text/plain": [
       "false"
      ]
     },
     "metadata": {},
     "output_type": "display_data"
    }
   ],
   "source": [
    "convered_by_deficiency_one_theorem(N, M)"
   ]
  },
  {
   "cell_type": "code",
   "execution_count": 9,
   "metadata": {},
   "outputs": [
    {
     "data": {
      "text/plain": [
       "true"
      ]
     },
     "metadata": {},
     "output_type": "display_data"
    }
   ],
   "source": [
    "# Consistency\n",
    "nonempty_positive_kernel(N)"
   ]
  },
  {
   "cell_type": "code",
   "execution_count": 10,
   "metadata": {},
   "outputs": [
    {
     "data": {
      "text/plain": [
       "true"
      ]
     },
     "metadata": {},
     "output_type": "display_data"
    }
   ],
   "source": [
    "# Generic nondegeneracy\n",
    "has_nondegenerate_zero(N, M)"
   ]
  },
  {
   "cell_type": "code",
   "execution_count": 11,
   "metadata": {},
   "outputs": [
    {
     "data": {
      "text/plain": [
       "1-element Vector{@NamedTuple{species::Int64, input_complexes::Vector{Vector{Int64}}, output_complexes::Vector{Vector{Int64}}}}:\n",
       " (species = 5, input_complexes = [[0, 0, 1, 1, 0]], output_complexes = [[0, 1, 1, 0, 0], [0, 0, 1, 1, 0]])"
      ]
     },
     "metadata": {},
     "output_type": "display_data"
    }
   ],
   "source": [
    "# Intermediates\n",
    "intermediates_result = intermediates(N, M, only_single_input=true)"
   ]
  },
  {
   "cell_type": "code",
   "execution_count": 12,
   "metadata": {},
   "outputs": [
    {
     "data": {
      "text/html": [
       "[1 -1 0 -1; 0 0 1 -1]"
      ],
      "text/latex": [
       "\\begin{array}{cccc}\n",
       "1 & -1 & 0 & -1 \\\\\n",
       "0 & 0 & 1 & -1\n",
       "\\end{array}"
      ],
      "text/plain": [
       "[1   -1   0   -1]\n",
       "[0    0   1   -1]"
      ]
     },
     "metadata": {},
     "output_type": "display_data"
    }
   ],
   "source": [
    "# Reduced network\n",
    "Ntilde, Mtilde = reduced_network(N, M, intermediates_result)\n",
    "Ctilde = row_space(Ntilde)"
   ]
  },
  {
   "cell_type": "code",
   "execution_count": 13,
   "metadata": {},
   "outputs": [
    {
     "data": {
      "text/html": [
       "[1 0 1 0; 0 1 1 0]"
      ],
      "text/latex": [
       "\\begin{array}{cccc}\n",
       "1 & 0 & 1 & 0 \\\\\n",
       "0 & 1 & 1 & 0\n",
       "\\end{array}"
      ],
      "text/plain": [
       "[1   0   1   0]\n",
       "[0   1   1   0]"
      ]
     },
     "metadata": {},
     "output_type": "display_data"
    }
   ],
   "source": [
    "# Toric invariance space\n",
    "Atilde = toric_invariance_space(Ctilde, Mtilde)"
   ]
  },
  {
   "cell_type": "code",
   "execution_count": 14,
   "metadata": {},
   "outputs": [
    {
     "data": {
      "text/html": [
       "[1 0 1 0 1; 0 1 1 0 1]"
      ],
      "text/latex": [
       "\\begin{array}{ccccc}\n",
       "1 & 0 & 1 & 0 & 1 \\\\\n",
       "0 & 1 & 1 & 0 & 1\n",
       "\\end{array}"
      ],
      "text/plain": [
       "[1   0   1   0   1]\n",
       "[0   1   1   0   1]"
      ]
     },
     "metadata": {},
     "output_type": "display_data"
    }
   ],
   "source": [
    "# Lifted toric invariance space\n",
    "A = lift_exponent_matrix(Atilde, M, intermediates_result)"
   ]
  },
  {
   "cell_type": "code",
   "execution_count": 15,
   "metadata": {},
   "outputs": [
    {
     "data": {
      "text/plain": [
       "true"
      ]
     },
     "metadata": {},
     "output_type": "display_data"
    }
   ],
   "source": [
    "# Sanity check\n",
    "A_original = toric_invariance_space(C, M)\n",
    "row_space(A) == row_space(A_original)"
   ]
  },
  {
   "cell_type": "code",
   "execution_count": 16,
   "metadata": {},
   "outputs": [
    {
     "data": {
      "text/plain": [
       "false"
      ]
     },
     "metadata": {},
     "output_type": "display_data"
    }
   ],
   "source": [
    "# Does the toric invariance space consist of conserved quantities?\n",
    "all(is_zero, A*N)"
   ]
  },
  {
   "cell_type": "code",
   "execution_count": 17,
   "metadata": {},
   "outputs": [
    {
     "data": {
      "text/plain": [
       "true"
      ]
     },
     "metadata": {},
     "output_type": "display_data"
    }
   ],
   "source": [
    "# Injectivity test\n",
    "injectivity_test(Ctilde, Mtilde, Atilde)"
   ]
  },
  {
   "cell_type": "code",
   "execution_count": 18,
   "metadata": {},
   "outputs": [
    {
     "data": {
      "text/plain": [
       "true"
      ]
     },
     "metadata": {},
     "output_type": "display_data"
    }
   ],
   "source": [
    "# Finitely many cosets for all rate constants?\n",
    "all_positive_roots_nondegenerate(Ctilde, Mtilde, QQ.(Atilde))"
   ]
  },
  {
   "cell_type": "code",
   "execution_count": 19,
   "metadata": {},
   "outputs": [
    {
     "data": {
      "text/plain": [
       "2"
      ]
     },
     "metadata": {},
     "output_type": "display_data"
    }
   ],
   "source": [
    "# Mixed volume bound on the number of cosets\n",
    "F = coset_counting_system(Ctilde, Mtilde, Atilde)\n",
    "HC.mixed_volume(F)"
   ]
  },
  {
   "cell_type": "code",
   "execution_count": 20,
   "metadata": {},
   "outputs": [
    {
     "data": {
      "text/plain": [
       "3-element Vector{Set{Int64}}:\n",
       " Set([2, 3, 1])\n",
       " Set([3, 1])\n",
       " Set([2, 3])"
      ]
     },
     "metadata": {},
     "output_type": "display_data"
    },
    {
     "data": {
      "text/plain": [
       "true"
      ]
     },
     "metadata": {},
     "output_type": "display_data"
    }
   ],
   "source": [
    "# Constant number of cosets for all rate constants?\n",
    "N_A_tilde = reconstruct_stoichiometric_matrix_with_row_space_and_conserved_quantities(Ctilde,QQ.(Atilde))\n",
    "display(minimal_siphons(N_A_tilde, Mtilde))\n",
    "siphon_test(N_A_tilde, Mtilde)"
   ]
  },
  {
   "cell_type": "code",
   "execution_count": 21,
   "metadata": {},
   "outputs": [
    {
     "data": {
      "text/plain": [
       "false"
      ]
     },
     "metadata": {},
     "output_type": "display_data"
    }
   ],
   "source": [
    "positive_vector_in_rowspace(Atilde)"
   ]
  },
  {
   "cell_type": "code",
   "execution_count": 22,
   "metadata": {},
   "outputs": [
    {
     "data": {
      "text/plain": [
       "1"
      ]
     },
     "metadata": {},
     "output_type": "display_data"
    }
   ],
   "source": [
    "# Number of positive solutions for random parameters\n",
    "number_of_cosets_for_random_parameters(Ctilde, Mtilde, Atilde; certify=true)"
   ]
  },
  {
   "cell_type": "code",
   "execution_count": 23,
   "metadata": {},
   "outputs": [
    {
     "name": "stdout",
     "output_type": "stream",
     "text": [
      "Injectivity test passed for reduced network\n",
      "Toricity!\n"
     ]
    },
    {
     "data": {
      "text/plain": [
       "(toricity = true, finite = true)"
      ]
     },
     "metadata": {},
     "output_type": "display_data"
    }
   ],
   "source": [
    "# Putting it all together\n",
    "coset_counting_analysis(Ntilde, Mtilde, Atilde)"
   ]
  },
  {
   "cell_type": "code",
   "execution_count": 24,
   "metadata": {},
   "outputs": [
    {
     "data": {
      "text/plain": [
       "false"
      ]
     },
     "metadata": {},
     "output_type": "display_data"
    }
   ],
   "source": [
    "# Capacity for multistationarity for original network\n",
    "coset_with_multistationarity(A, W)"
   ]
  },
  {
   "cell_type": "code",
   "execution_count": 25,
   "metadata": {},
   "outputs": [
    {
     "data": {
      "text/plain": [
       "1-element Vector{Int64}:\n",
       " 4"
      ]
     },
     "metadata": {},
     "output_type": "display_data"
    }
   ],
   "source": [
    "# (Local) ACR check\n",
    "zero_columns(A)"
   ]
  },
  {
   "cell_type": "code",
   "execution_count": 26,
   "metadata": {},
   "outputs": [
    {
     "name": "stdout",
     "output_type": "stream",
     "text": [
      "Gröbner basis: Generically binomial!\n",
      "Specialization for all rate constants: Verified\n"
     ]
    },
    {
     "data": {
      "text/plain": [
       "(generically = true, for_all_positive = true)"
      ]
     },
     "metadata": {},
     "output_type": "display_data"
    }
   ],
   "source": [
    "# Gröbner basis test for generic binomiality\n",
    "F = vertical_system(C, M)\n",
    "binomiality_check(F, verbose=true)"
   ]
  }
 ],
 "metadata": {
  "kernelspec": {
   "display_name": "Julia 1.10.4",
   "language": "julia",
   "name": "julia-1.10"
  },
  "language_info": {
   "file_extension": ".jl",
   "mimetype": "application/julia",
   "name": "julia",
   "version": "1.10.4"
  }
 },
 "nbformat": 4,
 "nbformat_minor": 2
}
